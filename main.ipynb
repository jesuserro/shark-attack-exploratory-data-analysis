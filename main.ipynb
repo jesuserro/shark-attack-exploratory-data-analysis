{
 "cells": [
  {
   "cell_type": "code",
   "execution_count": 2,
   "metadata": {},
   "outputs": [
    {
     "name": "stdout",
     "output_type": "stream",
     "text": [
      "✅ Fichero data/GSAF5.xls cargados correctamente.\n",
      "✅ Columnas limpiadas.\n",
      "Columnas con valores nulos:\n",
      "date               0.000000\n",
      "year               0.028596\n",
      "type               0.257363\n",
      "country            0.714898\n",
      "state              6.905919\n",
      "location           8.078353\n",
      "activity           8.364312\n",
      "name               3.131255\n",
      "sex                8.278524\n",
      "age               42.808121\n",
      "injury             0.500429\n",
      "fatal_y/n          8.021161\n",
      "time              50.414641\n",
      "species_          44.781241\n",
      "source             0.271661\n",
      "pdf                2.788104\n",
      "href_formula       2.859594\n",
      "href               2.830998\n",
      "case_number        2.802402\n",
      "case_number.1      2.816700\n",
      "original_order     2.788104\n",
      "unnamed:_21       99.985702\n",
      "unnamed:_22       99.971404\n",
      "dtype: float64\n"
     ]
    }
   ],
   "source": [
    "\"\"\"\n",
    "Plantilla de Análisis de Datos con Pandas y Seaborn\n",
    "Autor: Jesús Erro\n",
    "Fecha: 2025-02-10\n",
    "\"\"\"\n",
    "\n",
    "import pandas as pd\n",
    "import importlib\n",
    "\n",
    "try:\n",
    "    import cleaning as c  # Importamos el módulo de limpieza\n",
    "    importlib.reload(c)  # Recargamos en caso de cambios\n",
    "except ImportError:\n",
    "    print(\"❌ Error: No se pudo importar 'cleaning.py'. Verifica que el archivo está en el mismo directorio.\")\n",
    "\n",
    "# Instanciamos el procesador de datos\n",
    "p = c.DataProcessor(\"data/GSAF5.xls\")\n",
    "\n",
    "# Cargamos y limpiamos los datos\n",
    "p.load_data()\n",
    "p.clean_columns()\n",
    "df = p.get_data()\n",
    "# p.show_head(3)\n",
    "\n",
    "categorical_columns = p.categorical_columns()\n",
    "numerical_columns = p.numerical_columns()\n",
    "\n",
    "# print(\"\\nColumnas categóricas:\", categorical_columns)\n",
    "# print(\"Columnas numéricas:\", numerical_columns)\n",
    "# print(p.unique_values())\n",
    "\n",
    "# Muestra columna 'type'\n",
    "# p.clean_type_column()\n",
    "# df['type'].value_counts()\n",
    "\n",
    "p.missing_values()\n"
   ]
  }
 ],
 "metadata": {
  "kernelspec": {
   "display_name": "base",
   "language": "python",
   "name": "python3"
  },
  "language_info": {
   "codemirror_mode": {
    "name": "ipython",
    "version": 3
   },
   "file_extension": ".py",
   "mimetype": "text/x-python",
   "name": "python",
   "nbconvert_exporter": "python",
   "pygments_lexer": "ipython3",
   "version": "3.12.7"
  }
 },
 "nbformat": 4,
 "nbformat_minor": 2
}
