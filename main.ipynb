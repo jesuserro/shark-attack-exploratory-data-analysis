{
 "cells": [
  {
   "cell_type": "code",
   "execution_count": 1,
   "metadata": {},
   "outputs": [
    {
     "name": "stdout",
     "output_type": "stream",
     "text": [
      "✅ Fichero data/GSAF5.xls cargados correctamente.\n",
      "✅ Columnas limpiadas.\n",
      "✅ Hay valores nulos en el DataFrame.\n",
      "date                 0\n",
      "year                 2\n",
      "type                18\n",
      "country             50\n",
      "state              483\n",
      "location           565\n",
      "activity           585\n",
      "name               219\n",
      "sex                579\n",
      "age               2994\n",
      "injury              35\n",
      "fatal_y/n          561\n",
      "time              3526\n",
      "species_          3132\n",
      "source              19\n",
      "pdf                195\n",
      "href_formula       200\n",
      "href               198\n",
      "case_number        196\n",
      "case_number.1      197\n",
      "original_order     195\n",
      "unnamed:_21       6993\n",
      "unnamed:_22       6992\n",
      "dtype: int64\n"
     ]
    }
   ],
   "source": [
    "\"\"\"\n",
    "Plantilla de Análisis de Datos con Pandas y Seaborn\n",
    "Autor: Jesús Erro\n",
    "Fecha: 2025-02-10\n",
    "\"\"\"\n",
    "\n",
    "import pandas as pd\n",
    "import importlib\n",
    "\n",
    "try:\n",
    "    import cleaning as c  # Importamos el módulo de limpieza\n",
    "    importlib.reload(c)  # Recargamos en caso de cambios\n",
    "except ImportError:\n",
    "    print(\"❌ Error: No se pudo importar 'cleaning.py'. Verifica que el archivo está en el mismo directorio.\")\n",
    "\n",
    "# Instanciamos el procesador de datos\n",
    "p = c.DataProcessor(\"data/GSAF5.xls\")\n",
    "\n",
    "# Cargamos y limpiamos los datos\n",
    "p.load_data()\n",
    "p.clean_columns()\n",
    "df = p.get_data()\n",
    "# p.show_head(3)\n",
    "\n",
    "categorical_columns = p.categorical_columns()\n",
    "numerical_columns = p.numerical_columns()\n",
    "\n",
    "# print(\"\\nColumnas categóricas:\", categorical_columns)\n",
    "# print(\"Columnas numéricas:\", numerical_columns)\n",
    "# print(p.unique_values())\n",
    "\n",
    "# Muestra columna 'type'\n",
    "# p.clean_type_column()\n",
    "# df['type'].value_counts()\n",
    "\n",
    "p.missing_values()\n"
   ]
  }
 ],
 "metadata": {
  "kernelspec": {
   "display_name": "base",
   "language": "python",
   "name": "python3"
  },
  "language_info": {
   "codemirror_mode": {
    "name": "ipython",
    "version": 3
   },
   "file_extension": ".py",
   "mimetype": "text/x-python",
   "name": "python",
   "nbconvert_exporter": "python",
   "pygments_lexer": "ipython3",
   "version": "3.12.7"
  }
 },
 "nbformat": 4,
 "nbformat_minor": 2
}
