{
 "cells": [
  {
   "cell_type": "code",
   "execution_count": 45,
   "metadata": {},
   "outputs": [
    {
     "name": "stdout",
     "output_type": "stream",
     "text": [
      "✅ Fichero data/GSAF5.xls cargados correctamente.\n",
      "✅ Columnas limpiadas.\n"
     ]
    },
    {
     "data": {
      "text/plain": [
       "type\n",
       "Unprovoked             5155\n",
       "Provoked                637\n",
       "Invalid                 552\n",
       "Watercraft              355\n",
       "Sea Disaster            242\n",
       "Questionable             22\n",
       "Boat                      7\n",
       " Provoked                 2\n",
       "?                         1\n",
       "Unconfirmed               1\n",
       "Unverified                1\n",
       "Under investigation       1\n",
       "Name: count, dtype: int64"
      ]
     },
     "execution_count": 45,
     "metadata": {},
     "output_type": "execute_result"
    }
   ],
   "source": [
    "\"\"\"\n",
    "Plantilla de Análisis de Datos con Pandas y Seaborn\n",
    "Autor: Jesús Erro\n",
    "Fecha: 2025-02-10\n",
    "\"\"\"\n",
    "\n",
    "import pandas as pd\n",
    "import importlib\n",
    "\n",
    "try:\n",
    "    import cleaning as c  # Importamos el módulo de limpieza\n",
    "    importlib.reload(c)  # Recargamos en caso de cambios\n",
    "except ImportError:\n",
    "    print(\"❌ Error: No se pudo importar 'cleaning.py'. Verifica que el archivo está en el mismo directorio.\")\n",
    "\n",
    "# Instanciamos el procesador de datos\n",
    "p = c.DataProcessor(\"data/GSAF5.xls\")\n",
    "\n",
    "# Cargamos y limpiamos los datos\n",
    "p.load_data()\n",
    "p.clean_columns()\n",
    "df = p.get_data()\n",
    "# p.show_head(3)\n",
    "\n",
    "categorical_columns = p.categorical_columns()\n",
    "numerical_columns = p.numerical_columns()\n",
    "\n",
    "# print(\"\\nColumnas categóricas:\", categorical_columns)\n",
    "# print(\"Columnas numéricas:\", numerical_columns)\n",
    "# print(p.unique_values())\n",
    "\n",
    "# Muestra columna 'type'\n",
    "# p.clean_type_column()\n",
    "df['type'].value_counts()\n"
   ]
  }
 ],
 "metadata": {
  "kernelspec": {
   "display_name": "base",
   "language": "python",
   "name": "python3"
  },
  "language_info": {
   "codemirror_mode": {
    "name": "ipython",
    "version": 3
   },
   "file_extension": ".py",
   "mimetype": "text/x-python",
   "name": "python",
   "nbconvert_exporter": "python",
   "pygments_lexer": "ipython3",
   "version": "3.12.7"
  }
 },
 "nbformat": 4,
 "nbformat_minor": 2
}
