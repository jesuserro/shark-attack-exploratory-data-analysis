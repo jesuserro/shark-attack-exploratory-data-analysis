{
 "cells": [
  {
   "cell_type": "code",
   "execution_count": 11,
   "metadata": {},
   "outputs": [
    {
     "name": "stdout",
     "output_type": "stream",
     "text": [
      "✅ Datos cargados correctamente desde ../data/raw/GSAF5.xls\n",
      "✅ Nombres de columnas limpiados.\n",
      "\n",
      "🔹 Valores únicos de 'type' antes de la limpieza:\n",
      "['Unprovoked' 'Provoked' ' Provoked' 'Questionable' 'Watercraft'\n",
      " 'Sea Disaster' nan '?' 'Unconfirmed' 'Unverified' 'Invalid'\n",
      " 'Under investigation' 'Boat']\n",
      "✅ Columna 'type' limpiada.\n",
      "\n",
      "🔹 Valores únicos de 'type' después de la limpieza:\n",
      "['Unprovoked' 'Provoked' 'Questionable' 'Watercraft' 'Sea Disaster' None\n",
      " 'Boat']\n",
      "✅ Datos limpios guardados en ../data/processed/GSAF5_cleaned.xlsx\n"
     ]
    }
   ],
   "source": [
    "# Importamos módulos necesarios\n",
    "import sys\n",
    "import os\n",
    "import pandas as pd\n",
    "\n",
    "# Añadimos la ruta de src al path\n",
    "sys.path.append(os.path.abspath(\"../src\"))\n",
    "\n",
    "# Importamos las clases necesarias\n",
    "from data_loader import DataLoader\n",
    "from column_cleaner import ColumnCleaner\n",
    "from type_cleaner import TypeCleaner\n",
    "\n",
    "# Ruta de entrada y salida\n",
    "input_file = \"../data/raw/GSAF5.xls\"\n",
    "output_file = \"../data/processed/GSAF5_cleaned.xlsx\"\n",
    "\n",
    "# 1️⃣ Cargar los datos\n",
    "loader = DataLoader(input_file)\n",
    "loader.load_data()\n",
    "df_original = loader.get_data()  # Guardamos el DataFrame original\n",
    "\n",
    "# 2️⃣ Limpiar los nombres de las columnas\n",
    "column_cleaner = ColumnCleaner(df_original)\n",
    "column_cleaner.clean_columns()\n",
    "df_cleaned = column_cleaner.get_cleaned_data()  # DataFrame con nombres limpios\n",
    "\n",
    "# 3️⃣ Mostrar valores únicos de la columna \"type\" antes de la limpieza\n",
    "if \"type\" in df_cleaned.columns:\n",
    "    print(\"\\n🔹 Valores únicos de 'type' antes de la limpieza:\")\n",
    "    print(df_cleaned[\"type\"].unique())\n",
    "\n",
    "# 4️⃣ Limpiar la columna \"type\"\n",
    "type_cleaner = TypeCleaner(df_cleaned)\n",
    "type_cleaner.clean_type_column()\n",
    "df_final = type_cleaner.get_cleaned_data()  # DataFrame con \"type\" limpio\n",
    "\n",
    "# 5️⃣ Mostrar valores únicos de \"type\" después de la limpieza\n",
    "if \"type\" in df_final.columns:\n",
    "    print(\"\\n🔹 Valores únicos de 'type' después de la limpieza:\")\n",
    "    print(df_final[\"type\"].unique())\n",
    "\n",
    "# 6️⃣ Guardar los datos procesados con nombres de columnas y \"type\" corregidos\n",
    "type_cleaner.save_cleaned_data(output_file)\n"
   ]
  }
 ],
 "metadata": {
  "kernelspec": {
   "display_name": "base",
   "language": "python",
   "name": "python3"
  },
  "language_info": {
   "codemirror_mode": {
    "name": "ipython",
    "version": 3
   },
   "file_extension": ".py",
   "mimetype": "text/x-python",
   "name": "python",
   "nbconvert_exporter": "python",
   "pygments_lexer": "ipython3",
   "version": "3.12.7"
  }
 },
 "nbformat": 4,
 "nbformat_minor": 2
}
