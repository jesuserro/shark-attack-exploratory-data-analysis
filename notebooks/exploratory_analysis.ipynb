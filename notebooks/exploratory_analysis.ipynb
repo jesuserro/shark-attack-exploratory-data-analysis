{
 "cells": [
  {
   "cell_type": "markdown",
   "metadata": {},
   "source": [
    "## Carga del dataframe limpio"
   ]
  },
  {
   "cell_type": "code",
   "execution_count": 3,
   "metadata": {},
   "outputs": [
    {
     "name": "stdout",
     "output_type": "stream",
     "text": [
      "Note: you may need to restart the kernel to use updated packages.\n"
     ]
    }
   ],
   "source": [
    "%pip install -q -r ../requirements.txt"
   ]
  },
  {
   "cell_type": "code",
   "execution_count": 1,
   "metadata": {},
   "outputs": [
    {
     "data": {
      "text/html": [
       "<div>\n",
       "<style scoped>\n",
       "    .dataframe tbody tr th:only-of-type {\n",
       "        vertical-align: middle;\n",
       "    }\n",
       "\n",
       "    .dataframe tbody tr th {\n",
       "        vertical-align: top;\n",
       "    }\n",
       "\n",
       "    .dataframe thead th {\n",
       "        text-align: right;\n",
       "    }\n",
       "</style>\n",
       "<table border=\"1\" class=\"dataframe\">\n",
       "  <thead>\n",
       "    <tr style=\"text-align: right;\">\n",
       "      <th></th>\n",
       "      <th>date</th>\n",
       "      <th>year</th>\n",
       "      <th>type</th>\n",
       "      <th>country</th>\n",
       "      <th>state</th>\n",
       "      <th>location</th>\n",
       "      <th>activity</th>\n",
       "      <th>name</th>\n",
       "      <th>sex</th>\n",
       "      <th>age</th>\n",
       "      <th>...</th>\n",
       "      <th>species</th>\n",
       "      <th>source</th>\n",
       "      <th>pdf</th>\n",
       "      <th>href_formula</th>\n",
       "      <th>href</th>\n",
       "      <th>case_number</th>\n",
       "      <th>case_number.1</th>\n",
       "      <th>original_order</th>\n",
       "      <th>unnamed:_21</th>\n",
       "      <th>unnamed:_22</th>\n",
       "    </tr>\n",
       "  </thead>\n",
       "  <tbody>\n",
       "    <tr>\n",
       "      <th>0</th>\n",
       "      <td>2025-02-07 00:00:00</td>\n",
       "      <td>2025</td>\n",
       "      <td>Unprovoked</td>\n",
       "      <td>Turks and Caicos</td>\n",
       "      <td>NaN</td>\n",
       "      <td>Thompson Cove Beach</td>\n",
       "      <td>Swimming</td>\n",
       "      <td>Unknown</td>\n",
       "      <td>F</td>\n",
       "      <td>55</td>\n",
       "      <td>...</td>\n",
       "      <td>Large</td>\n",
       "      <td>Todd Smith: Platform X</td>\n",
       "      <td>NaN</td>\n",
       "      <td>NaN</td>\n",
       "      <td>NaN</td>\n",
       "      <td>NaN</td>\n",
       "      <td>NaN</td>\n",
       "      <td>NaN</td>\n",
       "      <td>NaN</td>\n",
       "      <td>NaN</td>\n",
       "    </tr>\n",
       "    <tr>\n",
       "      <th>1</th>\n",
       "      <td>25-Sep-2022</td>\n",
       "      <td>2022</td>\n",
       "      <td>Unprovoked</td>\n",
       "      <td>SOUTH AFRICA</td>\n",
       "      <td>Western Cape Province</td>\n",
       "      <td>Central Beach, Plettenberg Bay</td>\n",
       "      <td>Swimming</td>\n",
       "      <td>Kimon Bisogno</td>\n",
       "      <td>F</td>\n",
       "      <td>39</td>\n",
       "      <td>...</td>\n",
       "      <td>Large</td>\n",
       "      <td>Mirror, 9/25/2022</td>\n",
       "      <td>2022.09.25-Plett.pdf</td>\n",
       "      <td>http://sharkattackfile.net/spreadsheets/pdf_di...</td>\n",
       "      <td>http://sharkattackfile.net/spreadsheets/pdf_di...</td>\n",
       "      <td>2022.09.25</td>\n",
       "      <td>2022.09.25</td>\n",
       "      <td>6802.0</td>\n",
       "      <td>NaN</td>\n",
       "      <td>NaN</td>\n",
       "    </tr>\n",
       "    <tr>\n",
       "      <th>2</th>\n",
       "      <td>06-Sep-2022</td>\n",
       "      <td>2022</td>\n",
       "      <td>Unprovoked</td>\n",
       "      <td>BAHAMAS</td>\n",
       "      <td>NaN</td>\n",
       "      <td>Green Cay</td>\n",
       "      <td>Snorkeling</td>\n",
       "      <td>Caroline DiPlacido</td>\n",
       "      <td>F</td>\n",
       "      <td>58</td>\n",
       "      <td>...</td>\n",
       "      <td>Large</td>\n",
       "      <td>B. Myatt, GSAF</td>\n",
       "      <td>2022.09.06-Bahamas.pdf</td>\n",
       "      <td>http://sharkattackfile.net/spreadsheets/pdf_di...</td>\n",
       "      <td>http://sharkattackfile.net/spreadsheets/pdf_di...</td>\n",
       "      <td>2022.09.06</td>\n",
       "      <td>2022.09.06</td>\n",
       "      <td>6801.0</td>\n",
       "      <td>NaN</td>\n",
       "      <td>NaN</td>\n",
       "    </tr>\n",
       "    <tr>\n",
       "      <th>3</th>\n",
       "      <td>03-Sep-2022</td>\n",
       "      <td>2022</td>\n",
       "      <td>Unprovoked</td>\n",
       "      <td>USA</td>\n",
       "      <td>Hawaii</td>\n",
       "      <td>Lower Paia Beach Park, Maui</td>\n",
       "      <td>Swimming  or Snorkeling</td>\n",
       "      <td>female</td>\n",
       "      <td>F</td>\n",
       "      <td>51</td>\n",
       "      <td>...</td>\n",
       "      <td>Large</td>\n",
       "      <td>Star Advertiser, 9/3/2022</td>\n",
       "      <td>2022.09.03-Maui.pdf</td>\n",
       "      <td>http://sharkattackfile.net/spreadsheets/pdf_di...</td>\n",
       "      <td>http://sharkattackfile.net/spreadsheets/pdf_di...</td>\n",
       "      <td>2022.09.03</td>\n",
       "      <td>2022.09.03</td>\n",
       "      <td>6800.0</td>\n",
       "      <td>NaN</td>\n",
       "      <td>NaN</td>\n",
       "    </tr>\n",
       "    <tr>\n",
       "      <th>4</th>\n",
       "      <td>31-Aug-2022</td>\n",
       "      <td>2022</td>\n",
       "      <td>Unprovoked</td>\n",
       "      <td>AUSTRALIA</td>\n",
       "      <td>New South Wales</td>\n",
       "      <td>Avoca</td>\n",
       "      <td>Surfing</td>\n",
       "      <td>Sunni Pace</td>\n",
       "      <td>M</td>\n",
       "      <td>14</td>\n",
       "      <td>...</td>\n",
       "      <td>Large</td>\n",
       "      <td>Surfline, 9/2/2022</td>\n",
       "      <td>2022.08.31-Pace.pdf</td>\n",
       "      <td>http://sharkattackfile.net/spreadsheets/pdf_di...</td>\n",
       "      <td>http://sharkattackfile.net/spreadsheets/pdf_di...</td>\n",
       "      <td>2022.08.31</td>\n",
       "      <td>2022.08.31</td>\n",
       "      <td>6799.0</td>\n",
       "      <td>NaN</td>\n",
       "      <td>NaN</td>\n",
       "    </tr>\n",
       "  </tbody>\n",
       "</table>\n",
       "<p>5 rows × 23 columns</p>\n",
       "</div>"
      ],
      "text/plain": [
       "                  date  year        type           country  \\\n",
       "0  2025-02-07 00:00:00  2025  Unprovoked  Turks and Caicos   \n",
       "1          25-Sep-2022  2022  Unprovoked      SOUTH AFRICA   \n",
       "2          06-Sep-2022  2022  Unprovoked           BAHAMAS   \n",
       "3          03-Sep-2022  2022  Unprovoked               USA   \n",
       "4          31-Aug-2022  2022  Unprovoked         AUSTRALIA   \n",
       "\n",
       "                   state                        location  \\\n",
       "0                    NaN             Thompson Cove Beach   \n",
       "1  Western Cape Province  Central Beach, Plettenberg Bay   \n",
       "2                    NaN                       Green Cay   \n",
       "3                 Hawaii     Lower Paia Beach Park, Maui   \n",
       "4        New South Wales                           Avoca   \n",
       "\n",
       "                  activity                name sex age  ... species  \\\n",
       "0                 Swimming            Unknown    F  55  ...   Large   \n",
       "1                 Swimming       Kimon Bisogno   F  39  ...   Large   \n",
       "2               Snorkeling  Caroline DiPlacido   F  58  ...   Large   \n",
       "3  Swimming  or Snorkeling              female   F  51  ...   Large   \n",
       "4                  Surfing          Sunni Pace   M  14  ...   Large   \n",
       "\n",
       "                      source                     pdf  \\\n",
       "0     Todd Smith: Platform X                     NaN   \n",
       "1          Mirror, 9/25/2022    2022.09.25-Plett.pdf   \n",
       "2             B. Myatt, GSAF  2022.09.06-Bahamas.pdf   \n",
       "3  Star Advertiser, 9/3/2022     2022.09.03-Maui.pdf   \n",
       "4         Surfline, 9/2/2022     2022.08.31-Pace.pdf   \n",
       "\n",
       "                                        href_formula  \\\n",
       "0                                                NaN   \n",
       "1  http://sharkattackfile.net/spreadsheets/pdf_di...   \n",
       "2  http://sharkattackfile.net/spreadsheets/pdf_di...   \n",
       "3  http://sharkattackfile.net/spreadsheets/pdf_di...   \n",
       "4  http://sharkattackfile.net/spreadsheets/pdf_di...   \n",
       "\n",
       "                                                href case_number  \\\n",
       "0                                                NaN         NaN   \n",
       "1  http://sharkattackfile.net/spreadsheets/pdf_di...  2022.09.25   \n",
       "2  http://sharkattackfile.net/spreadsheets/pdf_di...  2022.09.06   \n",
       "3  http://sharkattackfile.net/spreadsheets/pdf_di...  2022.09.03   \n",
       "4  http://sharkattackfile.net/spreadsheets/pdf_di...  2022.08.31   \n",
       "\n",
       "  case_number.1 original_order unnamed:_21 unnamed:_22  \n",
       "0           NaN            NaN         NaN         NaN  \n",
       "1    2022.09.25         6802.0         NaN         NaN  \n",
       "2    2022.09.06         6801.0         NaN         NaN  \n",
       "3    2022.09.03         6800.0         NaN         NaN  \n",
       "4    2022.08.31         6799.0         NaN         NaN  \n",
       "\n",
       "[5 rows x 23 columns]"
      ]
     },
     "execution_count": 1,
     "metadata": {},
     "output_type": "execute_result"
    }
   ],
   "source": [
    "import pandas as pd\n",
    "\n",
    "# Cargar el archivo Excel limpio\n",
    "file_path = \"../data/processed/GSAF5_cleaned.xlsx\"\n",
    "df = pd.read_excel(file_path, engine=\"openpyxl\")\n",
    "\n",
    "# Mostrar las primeras filas del DataFrame\n",
    "df.head()"
   ]
  },
  {
   "cell_type": "markdown",
   "metadata": {},
   "source": [
    "## Por Países \n",
    "\n",
    "### Más ataques"
   ]
  },
  {
   "cell_type": "code",
   "execution_count": 6,
   "metadata": {},
   "outputs": [
    {
     "data": {
      "text/plain": [
       "country\n",
       "USA                 2475\n",
       "AUSTRALIA           1449\n",
       "SOUTH AFRICA         591\n",
       "FRANCE               176\n",
       "PAPUA NEW GUINEA     153\n",
       "                    ... \n",
       "GABON                  1\n",
       "SLOVENIA               1\n",
       "DOMINIKANA             1\n",
       "DJIBOUTI               1\n",
       "AFRICA                 1\n",
       "Length: 152, dtype: int64"
      ]
     },
     "execution_count": 6,
     "metadata": {},
     "output_type": "execute_result"
    }
   ],
   "source": [
    "ataques_pais = df.groupby('country').size().sort_values(ascending=False)\n",
    "ataques_pais   "
   ]
  },
  {
   "cell_type": "markdown",
   "metadata": {},
   "source": [
    "### Países seguros"
   ]
  },
  {
   "cell_type": "code",
   "execution_count": 7,
   "metadata": {},
   "outputs": [
    {
     "data": {
      "text/plain": [
       "country\n",
       "MICRONESIA              4\n",
       "EL SALVADOR             4\n",
       "NIGERIA                 4\n",
       "GRENADA                 4\n",
       "UNITED ARAB EMIRATES    4\n",
       "                       ..\n",
       "GABON                   1\n",
       "SLOVENIA                1\n",
       "DOMINIKANA              1\n",
       "DJIBOUTI                1\n",
       "AFRICA                  1\n",
       "Length: 81, dtype: int64"
      ]
     },
     "execution_count": 7,
     "metadata": {},
     "output_type": "execute_result"
    }
   ],
   "source": [
    "umbral = 5\n",
    "paises_seguros = ataques_pais[ataques_pais < umbral]  # umbral podría ser 5, por ejemplo\n",
    "paises_seguros\n"
   ]
  },
  {
   "cell_type": "code",
   "execution_count": null,
   "metadata": {},
   "outputs": [],
   "source": []
  },
  {
   "cell_type": "markdown",
   "metadata": {},
   "source": [
    "## Regiones\n",
    "\n",
    "### USA"
   ]
  },
  {
   "cell_type": "code",
   "execution_count": 10,
   "metadata": {},
   "outputs": [
    {
     "data": {
      "text/plain": [
       "state\n",
       "Florida                     1148\n",
       "Hawaii                       327\n",
       "California                   314\n",
       "South Carolina               168\n",
       "North Carolina               117\n",
       "Texas                         77\n",
       "New Jersey                    53\n",
       "New York                      39\n",
       "Oregon                        31\n",
       "Virginia                      19\n",
       "Massachusetts                 18\n",
       "Georgia                       17\n",
       "Alabama                       17\n",
       "Puerto Rico                   17\n",
       "Louisiana                     16\n",
       "Maryland                       9\n",
       "Delaware                       8\n",
       "Rhode Island                   8\n",
       "Mississippi                    7\n",
       "Connecticut                    6\n",
       "US Virgin Islands              5\n",
       "Tutuila Island                 3\n",
       "New York                       3\n",
       "Maui                           2\n",
       "Palmyra Atoll                  2\n",
       "Washington                     2\n",
       "Maine                          2\n",
       "Guam                           2\n",
       "East coast                     2\n",
       "North Carolina                 2\n",
       "Pennsylvania                   1\n",
       "Saipan                         1\n",
       "South Carolina                 1\n",
       "Virgin Islands                 1\n",
       "Wake Island                    1\n",
       "North Region                   1\n",
       " New Jersey                    1\n",
       "North & South Carolina         1\n",
       "Franklin County, Florida       1\n",
       "Alaska                         1\n",
       "Bahamas                        1\n",
       "CUBA                           1\n",
       "Carolina coast                 1\n",
       "Cayman Islands                 1\n",
       "Florida                        1\n",
       "Illinois                       1\n",
       "Noirth Carolina                1\n",
       "Johnston Atoll                 1\n",
       "Kentucky                       1\n",
       "Merizo                         1\n",
       " North Carolina                1\n",
       "Missouri                       1\n",
       "New Mexico                     1\n",
       "Midway Atoll                   1\n",
       "dtype: int64"
      ]
     },
     "execution_count": 10,
     "metadata": {},
     "output_type": "execute_result"
    }
   ],
   "source": [
    "df_usa = df[df['country'] == 'USA']\n",
    "ataques_estado = df_usa.groupby('state').size().sort_values(ascending=False)\n",
    "ataques_estado\n"
   ]
  },
  {
   "cell_type": "markdown",
   "metadata": {},
   "source": [
    "### Australia\n"
   ]
  },
  {
   "cell_type": "code",
   "execution_count": 12,
   "metadata": {},
   "outputs": [
    {
     "data": {
      "text/plain": [
       "state\n",
       "New South Wales                         518\n",
       "Queensland                              342\n",
       "Western Australia                       220\n",
       "South Australia                         108\n",
       "Victoria                                 93\n",
       "Torres Strait                            70\n",
       "Tasmania                                 44\n",
       "Northern Territory                       23\n",
       "Northern Territory                        4\n",
       "Westerm Australia                         4\n",
       "Torres Strait                             2\n",
       "Victoria                                  2\n",
       "New South Wales                           1\n",
       "Norfolk Island                            1\n",
       "Queensland                                1\n",
       "Territory of Cocos (Keeling) Islands      1\n",
       "dtype: int64"
      ]
     },
     "execution_count": 12,
     "metadata": {},
     "output_type": "execute_result"
    }
   ],
   "source": [
    "df_australia = df[df['country'] == 'AUSTRALIA']\n",
    "ataques_estado_aus = df_australia.groupby('state').size().sort_values(ascending=False)\n",
    "ataques_estado_aus "
   ]
  },
  {
   "cell_type": "markdown",
   "metadata": {},
   "source": [
    "## Distribución por especies de tiburón"
   ]
  },
  {
   "cell_type": "code",
   "execution_count": 28,
   "metadata": {},
   "outputs": [
    {
     "data": {
      "text/plain": [
       "species\n",
       "Large     6168\n",
       "Medium     347\n",
       "Small      263\n",
       "dtype: int64"
      ]
     },
     "execution_count": 28,
     "metadata": {},
     "output_type": "execute_result"
    }
   ],
   "source": [
    "especies = df.groupby('species').size().sort_values(ascending=False)\n",
    "especies"
   ]
  },
  {
   "cell_type": "markdown",
   "metadata": {},
   "source": [
    "### Ataques fatales por especie"
   ]
  },
  {
   "cell_type": "code",
   "execution_count": 29,
   "metadata": {},
   "outputs": [
    {
     "data": {
      "text/plain": [
       "species\n",
       "Large     1414\n",
       "Medium      21\n",
       "Small        1\n",
       "dtype: int64"
      ]
     },
     "execution_count": 29,
     "metadata": {},
     "output_type": "execute_result"
    }
   ],
   "source": [
    "especies_fatales = df[df['fatal'] == 1].groupby('species').size().sort_values(ascending=False)\n",
    "especies_fatales"
   ]
  },
  {
   "cell_type": "markdown",
   "metadata": {},
   "source": [
    "## Actividades \n",
    "\n",
    "### Con más ataques\n"
   ]
  },
  {
   "cell_type": "code",
   "execution_count": 15,
   "metadata": {},
   "outputs": [
    {
     "data": {
      "text/plain": [
       "activity\n",
       "Surfing                                                                         1087\n",
       "Swimming                                                                         942\n",
       "Fishing                                                                          472\n",
       "Spearfishing                                                                     367\n",
       "Wading                                                                           165\n",
       "                                                                                ... \n",
       "Fishing, thrown into water by heavy sea, clinging to rocks at the water line       1\n",
       "Fishing, stepped on hooked shark's head                                            1\n",
       "Fishing, standing in water washing fish                                            1\n",
       "Fishing, standing in water next to purse net                                       1\n",
       "yachtsman in a zodiac                                                              1\n",
       "Length: 1575, dtype: int64"
      ]
     },
     "execution_count": 15,
     "metadata": {},
     "output_type": "execute_result"
    }
   ],
   "source": [
    "actividades = df.groupby('activity').size().sort_values(ascending=False)\n",
    "\n",
    "actividades\n"
   ]
  },
  {
   "cell_type": "markdown",
   "metadata": {},
   "source": [
    "### Actividades Seguras"
   ]
  },
  {
   "cell_type": "code",
   "execution_count": 18,
   "metadata": {},
   "outputs": [
    {
     "data": {
      "text/plain": [
       "activity\n",
       "Skin diving                                                                     4\n",
       "Jumping                                                                         4\n",
       "Diving for coins                                                                4\n",
       "Freedom Swimming                                                                4\n",
       "Kayak fishing                                                                   4\n",
       "                                                                               ..\n",
       "Fishing, thrown into water by heavy sea, clinging to rocks at the water line    1\n",
       "Fishing, stepped on hooked shark's head                                         1\n",
       "Fishing, standing in water washing fish                                         1\n",
       "Fishing, standing in water next to purse net                                    1\n",
       "yachtsman in a zodiac                                                           1\n",
       "Length: 1509, dtype: int64"
      ]
     },
     "execution_count": 18,
     "metadata": {},
     "output_type": "execute_result"
    }
   ],
   "source": [
    "umbral = 5\n",
    "actividades_seguras = actividades[actividades < umbral]\n",
    "actividades_seguras"
   ]
  },
  {
   "cell_type": "markdown",
   "metadata": {},
   "source": [
    "## Distribución temporal \n",
    "\n",
    "### Por mes"
   ]
  },
  {
   "cell_type": "code",
   "execution_count": 36,
   "metadata": {},
   "outputs": [
    {
     "data": {
      "text/plain": [
       "enero         785\n",
       "julio         670\n",
       "agosto        590\n",
       "septiembre    530\n",
       "junio         482\n",
       "abril         435\n",
       "octubre       432\n",
       "diciembre     419\n",
       "marzo         408\n",
       "noviembre     402\n",
       "mayo          391\n",
       "febrero       371\n",
       "dtype: int64"
      ]
     },
     "execution_count": 36,
     "metadata": {},
     "output_type": "execute_result"
    }
   ],
   "source": [
    "df['date'] = pd.to_datetime(df['date'], errors='coerce')\n",
    "df['month'] = df['date'].dt.month\n",
    "ataques_mes = df.groupby('month').size()\n",
    "\n",
    "# Muestra los meses con su nombre en español: enero, febrero, marzo, etc.\n",
    "meses = ['enero', 'febrero', 'marzo', 'abril', 'mayo', 'junio', 'julio', 'agosto', 'septiembre', 'octubre', 'noviembre', 'diciembre']\n",
    "ataques_mes.index = [int(mes) for mes in ataques_mes.index]\n",
    "ataques_mes.index = [meses[mes - 1] for mes in ataques_mes.index]\n",
    "\n",
    "# Ordena la lista de meses con los más atacados primero\n",
    "ataques_mes = ataques_mes.sort_values(ascending=False)\n",
    "\n",
    "ataques_mes"
   ]
  },
  {
   "cell_type": "markdown",
   "metadata": {},
   "source": [
    "### Evolución histórica"
   ]
  },
  {
   "cell_type": "code",
   "execution_count": 42,
   "metadata": {},
   "outputs": [
    {
     "data": {
      "text/plain": [
       "year\n",
       "1971    163\n",
       "2015    143\n",
       "2017    139\n",
       "2016    131\n",
       "2011    128\n",
       "       ... \n",
       "1791      1\n",
       "1788      1\n",
       "1787      1\n",
       "1786      1\n",
       "2025      1\n",
       "Length: 253, dtype: int64"
      ]
     },
     "execution_count": 42,
     "metadata": {},
     "output_type": "execute_result"
    }
   ],
   "source": [
    "ataques_anuales = df.groupby('year').size()\n",
    "# Ordena los años con los más atacados primero\n",
    "ataques_anuales = ataques_anuales.sort_values(ascending=False)\n",
    "ataques_anuales"
   ]
  },
  {
   "cell_type": "markdown",
   "metadata": {},
   "source": [
    "## Comparativa entre ataques provocados vs no provocados"
   ]
  },
  {
   "cell_type": "code",
   "execution_count": 38,
   "metadata": {},
   "outputs": [
    {
     "data": {
      "text/plain": [
       "type\n",
       "Unprovoked      4978\n",
       "Provoked         619\n",
       "Watercraft       350\n",
       "Sea Disaster     241\n",
       "Questionable      13\n",
       "Boat               7\n",
       "Name: count, dtype: int64"
      ]
     },
     "execution_count": 38,
     "metadata": {},
     "output_type": "execute_result"
    }
   ],
   "source": [
    "tipos_ataques = df['type'].value_counts()\n",
    "tipos_ataques"
   ]
  },
  {
   "cell_type": "markdown",
   "metadata": {},
   "source": [
    "## Edad y sexo de las víctimas"
   ]
  },
  {
   "cell_type": "code",
   "execution_count": 39,
   "metadata": {},
   "outputs": [
    {
     "data": {
      "text/plain": [
       "sex\n",
       "M    5460\n",
       "F     739\n",
       "Name: count, dtype: int64"
      ]
     },
     "execution_count": 39,
     "metadata": {},
     "output_type": "execute_result"
    }
   ],
   "source": [
    "df['age'] = pd.to_numeric(df['age'], errors='coerce')\n",
    "edad_media = df['age'].mean()\n",
    "ataques_por_sexo = df['sex'].value_counts()\n",
    "ataques_por_sexo"
   ]
  },
  {
   "cell_type": "markdown",
   "metadata": {},
   "source": [
    "## Conclusiones del Estudio de Ataques de Tiburones\n",
    "\n",
    "### Objetivo del Estudio\n",
    "El objetivo de este estudio es evaluar las zonas de playa más seguras en términos de ataques de tiburones para montar un negocio playero. A continuación, se presentan las conclusiones más significativas basadas en el análisis de los datos limpiados.\n",
    "\n",
    "### Distribución de Ataques por País\n",
    "- **Países con más ataques**:\n",
    "  - **USA**: 2475 ataques\n",
    "  - **Australia**: 1449 ataques\n",
    "  - **Sudáfrica**: 591 ataques\n",
    "\n",
    "- **Países con menos ataques**:\n",
    "  - **Micronesia**, **El Salvador**, **Nigeria**, **Grenada**, **Emiratos Árabes Unidos**: 4 ataques cada uno\n",
    "  - **Gabon**, **Eslovenia**, **República Dominicana**, **Yibuti**, **África**: 1 ataque cada uno\n",
    "\n",
    "### Distribución de Ataques por Estado en USA\n",
    "- **Estados con más ataques**:\n",
    "  - **Florida**: 1148 ataques\n",
    "  - **Hawaii**: 327 ataques\n",
    "  - **California**: 314 ataques\n",
    "\n",
    "- **Estados con menos ataques**:\n",
    "  - **Alaska**, **Bahamas**, **Cuba**, **Carolina del Norte**, **Carolina del Sur**, **Islas Vírgenes**, **Wake Island**: 1 ataque cada uno\n",
    "\n",
    "### Distribución de Ataques por Estado en Australia\n",
    "- **Estados con más ataques**:\n",
    "  - **New South Wales**: 518 ataques\n",
    "  - **Queensland**: 342 ataques\n",
    "  - **Western Australia**: 220 ataques\n",
    "\n",
    "- **Estados con menos ataques**:\n",
    "  - **Norfolk Island**, **Territory of Cocos (Keeling) Islands**: 1 ataque cada uno\n",
    "\n",
    "### Distribución por Especies de Tiburón\n",
    "- **Especies más comunes en ataques**:\n",
    "  - **Tiburones grandes**: 6168 ataques\n",
    "  - **Tiburones medianos**: 347 ataques\n",
    "  - **Tiburones pequeños**: 263 ataques\n",
    "\n",
    "- **Ataques fatales por especie**:\n",
    "  - **Tiburones grandes**: 1414 ataques fatales\n",
    "  - **Tiburones medianos**: 21 ataques fatales\n",
    "  - **Tiburones pequeños**: 1 ataque fatal\n",
    "\n",
    "### Actividades con Más Ataques\n",
    "- **Actividades más peligrosas**:\n",
    "  - **Surfing**: 1087 ataques\n",
    "  - **Swimming**: 942 ataques\n",
    "  - **Fishing**: 472 ataques\n",
    "\n",
    "- **Actividades más seguras**:\n",
    "  - **Skin diving**, **Jumping**, **Diving for coins**, **Freedom Swimming**, **Kayak fishing**: 4 ataques cada una\n",
    "\n",
    "### Distribución Temporal de Ataques\n",
    "- **Meses con más ataques**:\n",
    "  - **Enero**: 785 ataques\n",
    "  - **Julio**: 670 ataques\n",
    "  - **Agosto**: 590 ataques\n",
    "\n",
    "- **Meses con menos ataques**:\n",
    "  - **Febrero**: 371 ataques\n",
    "  - **Mayo**: 391 ataques\n",
    "  - **Noviembre**: 402 ataques\n",
    "\n",
    "### Comparativa entre Ataques Provocados vs No Provocados\n",
    "- **Ataques no provocados**: 4978 ataques\n",
    "- **Ataques provocados**: 619 ataques\n",
    "- **Ataques relacionados con embarcaciones**: 350 ataques\n",
    "\n",
    "### Edad y Sexo de las Víctimas\n",
    "- **Distribución por sexo**:\n",
    "  - **Hombres**: 5460 ataques\n",
    "  - **Mujeres**: 739 ataques\n",
    "\n",
    "- **Edad media de las víctimas**: La edad media de las víctimas no se especifica en los resultados, pero se puede calcular a partir de los datos disponibles.\n",
    "\n",
    "### Recomendaciones básicas\n",
    "\n",
    "- **Zonas más seguras**: Basado en el análisis, las zonas con menos ataques de tiburones incluyen países como Micronesia, El Salvador, Nigeria, Grenada, y Emiratos Árabes Unidos.\n",
    "- **Actividades más seguras**: Actividades como Skin diving, Jumping, Diving for coins, Freedom Swimming, y Kayak fishing presentan un menor riesgo de ataques de tiburones.\n",
    "- **Meses más seguros**: Los meses de febrero, mayo y noviembre presentan menos ataques en comparación con otros meses.\n",
    "\n",
    "Estas conclusiones pueden ayudar a identificar las zonas de playa más seguras para montar un negocio playero, minimizando el riesgo de ataques de tiburones.\n",
    "\n",
    "## Recomendaciones para Zonas Seguras de Playa para Montar un Negocio Playero 🏖️\n",
    "\n",
    "1. Priorizar países con menor historial de ataques\n",
    "Micronesia, El Salvador, Nigeria, Grenada, Emiratos Árabes Unidos, Gabón, Eslovenia, República Dominicana, Yibuti.\n",
    "Estos países tienen solo entre 1 y 4 ataques registrados en toda la historia, lo que los posiciona como destinos con muy bajo riesgo.\n",
    "2. Evitar destinos de alto riesgo\n",
    "Estados Unidos, Australia y Sudáfrica concentran el 80% de los ataques registrados, siendo las playas de Florida, Hawaii, California, New South Wales y Queensland particularmente peligrosas.\n",
    "3. Explorar islas y destinos emergentes\n",
    "Norfolk Island (Australia) y Territory of Cocos (Keeling) Islands han registrado solo 1 ataque cada uno. Estas islas pueden ofrecer ambientes paradisíacos con bajo riesgo de ataques.\n",
    "4. Fomentar actividades de bajo riesgo\n",
    "Enfocar el negocio en actividades como:\n",
    "Kayak, Paddle Surf, Snorkel supervisado, Diving for coins o actividades recreativas no relacionadas con pesca ni surf.\n",
    "Estas actividades tienen historial mínimo de ataques (alrededor de 4 ataques por actividad).\n",
    "5. Evitar deportes extremos como reclamo\n",
    "Actividades como el surfing (1087 ataques) y swimming (942 ataques) son las que mayor cantidad de ataques acumulan. Aunque atractivas, incrementan el riesgo y el costo del seguro para el negocio.\n",
    "6. Estacionalidad favorable\n",
    "Evitar la temporada alta de ataques: Enero, Julio y Agosto son los meses con más ataques.\n",
    "Optar por la temporada baja de riesgo: Febrero, Mayo y Noviembre presentan menos ataques, lo que puede coincidir también con mejores tarifas y menor competencia turística.\n",
    "7. Preferir zonas de aguas menos profundas\n",
    "Tiburones grandes están relacionados con 6168 ataques, de los cuales 1414 fueron fatales. Estos suelen habitar en aguas profundas y abiertas.\n",
    "Zonas de arrecifes y lagunas son más seguras para bañistas y actividades recreativas.\n",
    "8. Promocionar destinos con enfoque familiar\n",
    "Las estadísticas indican que el 88% de los ataques fueron a hombres y en su mayoría durante actividades deportivas. Dirigir el negocio a un público familiar, mayores y niños, podría reducir la exposición a situaciones de riesgo.\n",
    "9. Evitar destinos con alta concentración de tiburones específicos\n",
    "White Shark (tiburón blanco), Bull Shark y Tiger Shark son las especies más peligrosas.\n",
    "Australia, Sudáfrica y algunas zonas de Florida son puntos críticos de estas especies.\n",
    "10. Ofrecer medidas de seguridad como valor agregado\n",
    "Instalación de redes anti-tiburones.\n",
    "Zonas delimitadas de baño con vigilancia activa.\n",
    "Uso de dispositivos repelentes de tiburones como reclamo innovador.\n",
    "Cursos de prevención y actuación en caso de avistamiento como parte de la experiencia turística.\n",
    "11. Evaluar alianzas con aseguradoras\n",
    "Negociar seguros específicos que cubran eventualidades con fauna marina.\n",
    "Ofrecer seguro de actividad acuática incluido en el paquete del negocio."
   ]
  }
 ],
 "metadata": {
  "kernelspec": {
   "display_name": "base",
   "language": "python",
   "name": "python3"
  },
  "language_info": {
   "codemirror_mode": {
    "name": "ipython",
    "version": 3
   },
   "file_extension": ".py",
   "mimetype": "text/x-python",
   "name": "python",
   "nbconvert_exporter": "python",
   "pygments_lexer": "ipython3",
   "version": "3.12.7"
  }
 },
 "nbformat": 4,
 "nbformat_minor": 2
}
