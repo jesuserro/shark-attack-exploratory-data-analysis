{
 "cells": [
  {
   "cell_type": "markdown",
   "metadata": {},
   "source": [
    "## Carga del dataframe limpio"
   ]
  },
  {
   "cell_type": "code",
   "execution_count": 2,
   "metadata": {},
   "outputs": [
    {
     "data": {
      "text/html": [
       "<div>\n",
       "<style scoped>\n",
       "    .dataframe tbody tr th:only-of-type {\n",
       "        vertical-align: middle;\n",
       "    }\n",
       "\n",
       "    .dataframe tbody tr th {\n",
       "        vertical-align: top;\n",
       "    }\n",
       "\n",
       "    .dataframe thead th {\n",
       "        text-align: right;\n",
       "    }\n",
       "</style>\n",
       "<table border=\"1\" class=\"dataframe\">\n",
       "  <thead>\n",
       "    <tr style=\"text-align: right;\">\n",
       "      <th></th>\n",
       "      <th>date</th>\n",
       "      <th>year</th>\n",
       "      <th>type</th>\n",
       "      <th>country</th>\n",
       "      <th>state</th>\n",
       "      <th>location</th>\n",
       "      <th>activity</th>\n",
       "      <th>name</th>\n",
       "      <th>sex</th>\n",
       "      <th>age</th>\n",
       "      <th>...</th>\n",
       "      <th>species</th>\n",
       "      <th>source</th>\n",
       "      <th>pdf</th>\n",
       "      <th>href_formula</th>\n",
       "      <th>href</th>\n",
       "      <th>case_number</th>\n",
       "      <th>case_number.1</th>\n",
       "      <th>original_order</th>\n",
       "      <th>unnamed:_21</th>\n",
       "      <th>unnamed:_22</th>\n",
       "    </tr>\n",
       "  </thead>\n",
       "  <tbody>\n",
       "    <tr>\n",
       "      <th>0</th>\n",
       "      <td>2025-02-07 00:00:00</td>\n",
       "      <td>2025.0</td>\n",
       "      <td>Unprovoked</td>\n",
       "      <td>Turks and Caicos</td>\n",
       "      <td>NaN</td>\n",
       "      <td>Thompson Cove Beach</td>\n",
       "      <td>Swimming</td>\n",
       "      <td>Unknown</td>\n",
       "      <td>F</td>\n",
       "      <td>55</td>\n",
       "      <td>...</td>\n",
       "      <td>Unknown</td>\n",
       "      <td>Todd Smith: Platform X</td>\n",
       "      <td>NaN</td>\n",
       "      <td>NaN</td>\n",
       "      <td>NaN</td>\n",
       "      <td>NaN</td>\n",
       "      <td>NaN</td>\n",
       "      <td>NaN</td>\n",
       "      <td>NaN</td>\n",
       "      <td>NaN</td>\n",
       "    </tr>\n",
       "    <tr>\n",
       "      <th>1</th>\n",
       "      <td>25-Sep-2022</td>\n",
       "      <td>2022.0</td>\n",
       "      <td>Unprovoked</td>\n",
       "      <td>SOUTH AFRICA</td>\n",
       "      <td>Western Cape Province</td>\n",
       "      <td>Central Beach, Plettenberg Bay</td>\n",
       "      <td>Swimming</td>\n",
       "      <td>Kimon Bisogno</td>\n",
       "      <td>F</td>\n",
       "      <td>39</td>\n",
       "      <td>...</td>\n",
       "      <td>White shark, 13'</td>\n",
       "      <td>Mirror, 9/25/2022</td>\n",
       "      <td>2022.09.25-Plett.pdf</td>\n",
       "      <td>http://sharkattackfile.net/spreadsheets/pdf_di...</td>\n",
       "      <td>http://sharkattackfile.net/spreadsheets/pdf_di...</td>\n",
       "      <td>2022.09.25</td>\n",
       "      <td>2022.09.25</td>\n",
       "      <td>6802.0</td>\n",
       "      <td>NaN</td>\n",
       "      <td>NaN</td>\n",
       "    </tr>\n",
       "    <tr>\n",
       "      <th>2</th>\n",
       "      <td>06-Sep-2022</td>\n",
       "      <td>2022.0</td>\n",
       "      <td>Unprovoked</td>\n",
       "      <td>BAHAMAS</td>\n",
       "      <td>NaN</td>\n",
       "      <td>Green Cay</td>\n",
       "      <td>Snorkeling</td>\n",
       "      <td>Caroline DiPlacido</td>\n",
       "      <td>F</td>\n",
       "      <td>58</td>\n",
       "      <td>...</td>\n",
       "      <td>Bull shark</td>\n",
       "      <td>B. Myatt, GSAF</td>\n",
       "      <td>2022.09.06-Bahamas.pdf</td>\n",
       "      <td>http://sharkattackfile.net/spreadsheets/pdf_di...</td>\n",
       "      <td>http://sharkattackfile.net/spreadsheets/pdf_di...</td>\n",
       "      <td>2022.09.06</td>\n",
       "      <td>2022.09.06</td>\n",
       "      <td>6801.0</td>\n",
       "      <td>NaN</td>\n",
       "      <td>NaN</td>\n",
       "    </tr>\n",
       "    <tr>\n",
       "      <th>3</th>\n",
       "      <td>03-Sep-2022</td>\n",
       "      <td>2022.0</td>\n",
       "      <td>Unprovoked</td>\n",
       "      <td>USA</td>\n",
       "      <td>Hawaii</td>\n",
       "      <td>Lower Paia Beach Park, Maui</td>\n",
       "      <td>Swimming  or Snorkeling</td>\n",
       "      <td>female</td>\n",
       "      <td>F</td>\n",
       "      <td>51</td>\n",
       "      <td>...</td>\n",
       "      <td>NaN</td>\n",
       "      <td>Star Advertiser, 9/3/2022</td>\n",
       "      <td>2022.09.03-Maui.pdf</td>\n",
       "      <td>http://sharkattackfile.net/spreadsheets/pdf_di...</td>\n",
       "      <td>http://sharkattackfile.net/spreadsheets/pdf_di...</td>\n",
       "      <td>2022.09.03</td>\n",
       "      <td>2022.09.03</td>\n",
       "      <td>6800.0</td>\n",
       "      <td>NaN</td>\n",
       "      <td>NaN</td>\n",
       "    </tr>\n",
       "    <tr>\n",
       "      <th>4</th>\n",
       "      <td>31-Aug-2022</td>\n",
       "      <td>2022.0</td>\n",
       "      <td>Unprovoked</td>\n",
       "      <td>AUSTRALIA</td>\n",
       "      <td>New South Wales</td>\n",
       "      <td>Avoca</td>\n",
       "      <td>Surfing</td>\n",
       "      <td>Sunni Pace</td>\n",
       "      <td>M</td>\n",
       "      <td>14</td>\n",
       "      <td>...</td>\n",
       "      <td>Bronze whaler</td>\n",
       "      <td>Surfline, 9/2/2022</td>\n",
       "      <td>2022.08.31-Pace.pdf</td>\n",
       "      <td>http://sharkattackfile.net/spreadsheets/pdf_di...</td>\n",
       "      <td>http://sharkattackfile.net/spreadsheets/pdf_di...</td>\n",
       "      <td>2022.08.31</td>\n",
       "      <td>2022.08.31</td>\n",
       "      <td>6799.0</td>\n",
       "      <td>NaN</td>\n",
       "      <td>NaN</td>\n",
       "    </tr>\n",
       "  </tbody>\n",
       "</table>\n",
       "<p>5 rows × 23 columns</p>\n",
       "</div>"
      ],
      "text/plain": [
       "                  date    year        type           country  \\\n",
       "0  2025-02-07 00:00:00  2025.0  Unprovoked  Turks and Caicos   \n",
       "1          25-Sep-2022  2022.0  Unprovoked      SOUTH AFRICA   \n",
       "2          06-Sep-2022  2022.0  Unprovoked           BAHAMAS   \n",
       "3          03-Sep-2022  2022.0  Unprovoked               USA   \n",
       "4          31-Aug-2022  2022.0  Unprovoked         AUSTRALIA   \n",
       "\n",
       "                   state                        location  \\\n",
       "0                    NaN             Thompson Cove Beach   \n",
       "1  Western Cape Province  Central Beach, Plettenberg Bay   \n",
       "2                    NaN                       Green Cay   \n",
       "3                 Hawaii     Lower Paia Beach Park, Maui   \n",
       "4        New South Wales                           Avoca   \n",
       "\n",
       "                  activity                name sex age  ...           species  \\\n",
       "0                 Swimming            Unknown    F  55  ...           Unknown   \n",
       "1                 Swimming       Kimon Bisogno   F  39  ...  White shark, 13'   \n",
       "2               Snorkeling  Caroline DiPlacido   F  58  ...        Bull shark   \n",
       "3  Swimming  or Snorkeling              female   F  51  ...               NaN   \n",
       "4                  Surfing          Sunni Pace   M  14  ...     Bronze whaler   \n",
       "\n",
       "                      source                     pdf  \\\n",
       "0     Todd Smith: Platform X                     NaN   \n",
       "1          Mirror, 9/25/2022    2022.09.25-Plett.pdf   \n",
       "2             B. Myatt, GSAF  2022.09.06-Bahamas.pdf   \n",
       "3  Star Advertiser, 9/3/2022     2022.09.03-Maui.pdf   \n",
       "4         Surfline, 9/2/2022     2022.08.31-Pace.pdf   \n",
       "\n",
       "                                        href_formula  \\\n",
       "0                                                NaN   \n",
       "1  http://sharkattackfile.net/spreadsheets/pdf_di...   \n",
       "2  http://sharkattackfile.net/spreadsheets/pdf_di...   \n",
       "3  http://sharkattackfile.net/spreadsheets/pdf_di...   \n",
       "4  http://sharkattackfile.net/spreadsheets/pdf_di...   \n",
       "\n",
       "                                                href case_number  \\\n",
       "0                                                NaN         NaN   \n",
       "1  http://sharkattackfile.net/spreadsheets/pdf_di...  2022.09.25   \n",
       "2  http://sharkattackfile.net/spreadsheets/pdf_di...  2022.09.06   \n",
       "3  http://sharkattackfile.net/spreadsheets/pdf_di...  2022.09.03   \n",
       "4  http://sharkattackfile.net/spreadsheets/pdf_di...  2022.08.31   \n",
       "\n",
       "  case_number.1 original_order unnamed:_21 unnamed:_22  \n",
       "0           NaN            NaN         NaN         NaN  \n",
       "1    2022.09.25         6802.0         NaN         NaN  \n",
       "2    2022.09.06         6801.0         NaN         NaN  \n",
       "3    2022.09.03         6800.0         NaN         NaN  \n",
       "4    2022.08.31         6799.0         NaN         NaN  \n",
       "\n",
       "[5 rows x 23 columns]"
      ]
     },
     "execution_count": 2,
     "metadata": {},
     "output_type": "execute_result"
    }
   ],
   "source": [
    "import pandas as pd\n",
    "\n",
    "# Cargar el archivo Excel limpio\n",
    "file_path = \"../data/processed/GSAF5_cleaned.xlsx\"\n",
    "df = pd.read_excel(file_path, engine=\"openpyxl\")\n",
    "\n",
    "# Mostrar las primeras filas del DataFrame\n",
    "df.head()"
   ]
  },
  {
   "cell_type": "markdown",
   "metadata": {},
   "source": [
    "## Por Países \n",
    "\n",
    "### Más ataques"
   ]
  },
  {
   "cell_type": "code",
   "execution_count": 6,
   "metadata": {},
   "outputs": [
    {
     "data": {
      "text/plain": [
       "country\n",
       "USA                 2475\n",
       "AUSTRALIA           1449\n",
       "SOUTH AFRICA         591\n",
       "FRANCE               176\n",
       "PAPUA NEW GUINEA     153\n",
       "                    ... \n",
       "GABON                  1\n",
       "SLOVENIA               1\n",
       "DOMINIKANA             1\n",
       "DJIBOUTI               1\n",
       "AFRICA                 1\n",
       "Length: 152, dtype: int64"
      ]
     },
     "execution_count": 6,
     "metadata": {},
     "output_type": "execute_result"
    }
   ],
   "source": [
    "ataques_pais = df.groupby('country').size().sort_values(ascending=False)\n",
    "ataques_pais   "
   ]
  },
  {
   "cell_type": "markdown",
   "metadata": {},
   "source": [
    "### Países seguros"
   ]
  },
  {
   "cell_type": "code",
   "execution_count": 7,
   "metadata": {},
   "outputs": [
    {
     "data": {
      "text/plain": [
       "country\n",
       "MICRONESIA              4\n",
       "EL SALVADOR             4\n",
       "NIGERIA                 4\n",
       "GRENADA                 4\n",
       "UNITED ARAB EMIRATES    4\n",
       "                       ..\n",
       "GABON                   1\n",
       "SLOVENIA                1\n",
       "DOMINIKANA              1\n",
       "DJIBOUTI                1\n",
       "AFRICA                  1\n",
       "Length: 81, dtype: int64"
      ]
     },
     "execution_count": 7,
     "metadata": {},
     "output_type": "execute_result"
    }
   ],
   "source": [
    "umbral = 5\n",
    "paises_seguros = ataques_pais[ataques_pais < umbral]  # umbral podría ser 5, por ejemplo\n",
    "paises_seguros\n"
   ]
  },
  {
   "cell_type": "markdown",
   "metadata": {},
   "source": [
    "## Regiones\n",
    "\n",
    "### USA"
   ]
  },
  {
   "cell_type": "code",
   "execution_count": 10,
   "metadata": {},
   "outputs": [
    {
     "data": {
      "text/plain": [
       "state\n",
       "Florida                     1148\n",
       "Hawaii                       327\n",
       "California                   314\n",
       "South Carolina               168\n",
       "North Carolina               117\n",
       "Texas                         77\n",
       "New Jersey                    53\n",
       "New York                      39\n",
       "Oregon                        31\n",
       "Virginia                      19\n",
       "Massachusetts                 18\n",
       "Georgia                       17\n",
       "Alabama                       17\n",
       "Puerto Rico                   17\n",
       "Louisiana                     16\n",
       "Maryland                       9\n",
       "Delaware                       8\n",
       "Rhode Island                   8\n",
       "Mississippi                    7\n",
       "Connecticut                    6\n",
       "US Virgin Islands              5\n",
       "Tutuila Island                 3\n",
       "New York                       3\n",
       "Maui                           2\n",
       "Palmyra Atoll                  2\n",
       "Washington                     2\n",
       "Maine                          2\n",
       "Guam                           2\n",
       "East coast                     2\n",
       "North Carolina                 2\n",
       "Pennsylvania                   1\n",
       "Saipan                         1\n",
       "South Carolina                 1\n",
       "Virgin Islands                 1\n",
       "Wake Island                    1\n",
       "North Region                   1\n",
       " New Jersey                    1\n",
       "North & South Carolina         1\n",
       "Franklin County, Florida       1\n",
       "Alaska                         1\n",
       "Bahamas                        1\n",
       "CUBA                           1\n",
       "Carolina coast                 1\n",
       "Cayman Islands                 1\n",
       "Florida                        1\n",
       "Illinois                       1\n",
       "Noirth Carolina                1\n",
       "Johnston Atoll                 1\n",
       "Kentucky                       1\n",
       "Merizo                         1\n",
       " North Carolina                1\n",
       "Missouri                       1\n",
       "New Mexico                     1\n",
       "Midway Atoll                   1\n",
       "dtype: int64"
      ]
     },
     "execution_count": 10,
     "metadata": {},
     "output_type": "execute_result"
    }
   ],
   "source": [
    "df_usa = df[df['country'] == 'USA']\n",
    "ataques_estado = df_usa.groupby('state').size().sort_values(ascending=False)\n",
    "ataques_estado\n"
   ]
  },
  {
   "cell_type": "markdown",
   "metadata": {},
   "source": [
    "### Australia\n"
   ]
  },
  {
   "cell_type": "code",
   "execution_count": 12,
   "metadata": {},
   "outputs": [
    {
     "data": {
      "text/plain": [
       "state\n",
       "New South Wales                         518\n",
       "Queensland                              342\n",
       "Western Australia                       220\n",
       "South Australia                         108\n",
       "Victoria                                 93\n",
       "Torres Strait                            70\n",
       "Tasmania                                 44\n",
       "Northern Territory                       23\n",
       "Northern Territory                        4\n",
       "Westerm Australia                         4\n",
       "Torres Strait                             2\n",
       "Victoria                                  2\n",
       "New South Wales                           1\n",
       "Norfolk Island                            1\n",
       "Queensland                                1\n",
       "Territory of Cocos (Keeling) Islands      1\n",
       "dtype: int64"
      ]
     },
     "execution_count": 12,
     "metadata": {},
     "output_type": "execute_result"
    }
   ],
   "source": [
    "df_australia = df[df['country'] == 'AUSTRALIA']\n",
    "ataques_estado_aus = df_australia.groupby('state').size().sort_values(ascending=False)\n",
    "ataques_estado_aus "
   ]
  },
  {
   "cell_type": "markdown",
   "metadata": {},
   "source": [
    "## Distribución por especies de tiburón"
   ]
  },
  {
   "cell_type": "code",
   "execution_count": 19,
   "metadata": {},
   "outputs": [
    {
     "data": {
      "text/plain": [
       "species\n",
       "White shark                                           189\n",
       "Shark involvement prior to death was not confirmed    105\n",
       "Invalid                                               102\n",
       "Shark involvement not confirmed                        91\n",
       "Tiger shark                                            85\n",
       "                                                     ... \n",
       "Blacktip shark, 5'                                      1\n",
       "Blacktip shark, 2m                                      1\n",
       "Blacktip shark, 2.4 m to 3 m [8' to 10']                1\n",
       "Blacktip shark, 2'                                      1\n",
       "“small brown shark”                                     1\n",
       "Length: 1646, dtype: int64"
      ]
     },
     "execution_count": 19,
     "metadata": {},
     "output_type": "execute_result"
    }
   ],
   "source": [
    "especies = df.groupby('species').size().sort_values(ascending=False)\n",
    "especies"
   ]
  },
  {
   "cell_type": "markdown",
   "metadata": {},
   "source": [
    "### Ataques fatales por especie"
   ]
  },
  {
   "cell_type": "code",
   "execution_count": 20,
   "metadata": {},
   "outputs": [
    {
     "data": {
      "text/plain": [
       "species\n",
       "White shark                                                        50\n",
       "Tiger shark                                                        29\n",
       "Bull shark                                                         17\n",
       "3.7 m [12'] shark                                                   9\n",
       "3 m [10'] shark                                                     8\n",
       "                                                                   ..\n",
       "Bronze whaler shark                                                 1\n",
       "Bronze whaler shark,3.7 m [12']                                     1\n",
       "Bull or tiger shark                                                 1\n",
       "Bull shark caught, leg recovered & buried beside the man's body     1\n",
       "small sharks'                                                       1\n",
       "Length: 286, dtype: int64"
      ]
     },
     "execution_count": 20,
     "metadata": {},
     "output_type": "execute_result"
    }
   ],
   "source": [
    "especies_fatales = df[df['fatal'] == 1].groupby('species').size().sort_values(ascending=False)\n",
    "especies_fatales"
   ]
  },
  {
   "cell_type": "markdown",
   "metadata": {},
   "source": [
    "## Actividades \n",
    "\n",
    "### Con más ataques\n"
   ]
  },
  {
   "cell_type": "code",
   "execution_count": 15,
   "metadata": {},
   "outputs": [
    {
     "data": {
      "text/plain": [
       "activity\n",
       "Surfing                                                                         1087\n",
       "Swimming                                                                         942\n",
       "Fishing                                                                          472\n",
       "Spearfishing                                                                     367\n",
       "Wading                                                                           165\n",
       "                                                                                ... \n",
       "Fishing, thrown into water by heavy sea, clinging to rocks at the water line       1\n",
       "Fishing, stepped on hooked shark's head                                            1\n",
       "Fishing, standing in water washing fish                                            1\n",
       "Fishing, standing in water next to purse net                                       1\n",
       "yachtsman in a zodiac                                                              1\n",
       "Length: 1575, dtype: int64"
      ]
     },
     "execution_count": 15,
     "metadata": {},
     "output_type": "execute_result"
    }
   ],
   "source": [
    "actividades = df.groupby('activity').size().sort_values(ascending=False)\n",
    "\n",
    "actividades\n"
   ]
  },
  {
   "cell_type": "markdown",
   "metadata": {},
   "source": [
    "### Actividades Seguras"
   ]
  },
  {
   "cell_type": "code",
   "execution_count": 18,
   "metadata": {},
   "outputs": [
    {
     "data": {
      "text/plain": [
       "activity\n",
       "Skin diving                                                                     4\n",
       "Jumping                                                                         4\n",
       "Diving for coins                                                                4\n",
       "Freedom Swimming                                                                4\n",
       "Kayak fishing                                                                   4\n",
       "                                                                               ..\n",
       "Fishing, thrown into water by heavy sea, clinging to rocks at the water line    1\n",
       "Fishing, stepped on hooked shark's head                                         1\n",
       "Fishing, standing in water washing fish                                         1\n",
       "Fishing, standing in water next to purse net                                    1\n",
       "yachtsman in a zodiac                                                           1\n",
       "Length: 1509, dtype: int64"
      ]
     },
     "execution_count": 18,
     "metadata": {},
     "output_type": "execute_result"
    }
   ],
   "source": [
    "umbral = 5\n",
    "actividades_seguras = actividades[actividades < umbral]\n",
    "actividades_seguras"
   ]
  }
 ],
 "metadata": {
  "kernelspec": {
   "display_name": "base",
   "language": "python",
   "name": "python3"
  },
  "language_info": {
   "codemirror_mode": {
    "name": "ipython",
    "version": 3
   },
   "file_extension": ".py",
   "mimetype": "text/x-python",
   "name": "python",
   "nbconvert_exporter": "python",
   "pygments_lexer": "ipython3",
   "version": "3.12.7"
  }
 },
 "nbformat": 4,
 "nbformat_minor": 2
}
